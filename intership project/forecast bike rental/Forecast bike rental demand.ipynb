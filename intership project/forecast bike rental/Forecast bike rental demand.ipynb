{
 "cells": [
  {
   "cell_type": "code",
   "execution_count": 1,
   "id": "c09348ef",
   "metadata": {},
   "outputs": [],
   "source": [
    "import pandas as pd\n",
    "import numpy as np \n",
    "import matplotlib.pyplot as plt\n",
    "%matplotlib inline\n",
    "import seaborn as sns\n",
    "from sklearn.linear_model import LinearRegression\n",
    "import statistics as stat\n",
    "from sklearn.model_selection import train_test_split"
   ]
  },
  {
   "cell_type": "code",
   "execution_count": 2,
   "id": "9996f7cf",
   "metadata": {},
   "outputs": [
    {
     "data": {
      "text/html": [
       "<div>\n",
       "<style scoped>\n",
       "    .dataframe tbody tr th:only-of-type {\n",
       "        vertical-align: middle;\n",
       "    }\n",
       "\n",
       "    .dataframe tbody tr th {\n",
       "        vertical-align: top;\n",
       "    }\n",
       "\n",
       "    .dataframe thead th {\n",
       "        text-align: right;\n",
       "    }\n",
       "</style>\n",
       "<table border=\"1\" class=\"dataframe\">\n",
       "  <thead>\n",
       "    <tr style=\"text-align: right;\">\n",
       "      <th></th>\n",
       "      <th>datetime</th>\n",
       "      <th>season</th>\n",
       "      <th>holiday</th>\n",
       "      <th>workingday</th>\n",
       "      <th>weather</th>\n",
       "      <th>temp</th>\n",
       "      <th>atemp</th>\n",
       "      <th>humidity</th>\n",
       "      <th>windspeed</th>\n",
       "      <th>casual</th>\n",
       "      <th>registered</th>\n",
       "      <th>count</th>\n",
       "    </tr>\n",
       "  </thead>\n",
       "  <tbody>\n",
       "    <tr>\n",
       "      <th>0</th>\n",
       "      <td>2011-01-01 0:00:00</td>\n",
       "      <td>1</td>\n",
       "      <td>0</td>\n",
       "      <td>0</td>\n",
       "      <td>1</td>\n",
       "      <td>9.84</td>\n",
       "      <td>14.395</td>\n",
       "      <td>81.0</td>\n",
       "      <td>0.0</td>\n",
       "      <td>3</td>\n",
       "      <td>13</td>\n",
       "      <td>16</td>\n",
       "    </tr>\n",
       "    <tr>\n",
       "      <th>1</th>\n",
       "      <td>2011-01-01 1:00:00</td>\n",
       "      <td>1</td>\n",
       "      <td>0</td>\n",
       "      <td>0</td>\n",
       "      <td>1</td>\n",
       "      <td>9.02</td>\n",
       "      <td>13.635</td>\n",
       "      <td>80.0</td>\n",
       "      <td>0.0</td>\n",
       "      <td>8</td>\n",
       "      <td>32</td>\n",
       "      <td>40</td>\n",
       "    </tr>\n",
       "    <tr>\n",
       "      <th>2</th>\n",
       "      <td>2011-01-01 2:00:00</td>\n",
       "      <td>1</td>\n",
       "      <td>0</td>\n",
       "      <td>0</td>\n",
       "      <td>1</td>\n",
       "      <td>9.02</td>\n",
       "      <td>13.635</td>\n",
       "      <td>80.0</td>\n",
       "      <td>0.0</td>\n",
       "      <td>5</td>\n",
       "      <td>27</td>\n",
       "      <td>32</td>\n",
       "    </tr>\n",
       "    <tr>\n",
       "      <th>3</th>\n",
       "      <td>2011-01-01 3:00:00</td>\n",
       "      <td>1</td>\n",
       "      <td>0</td>\n",
       "      <td>0</td>\n",
       "      <td>1</td>\n",
       "      <td>9.84</td>\n",
       "      <td>14.395</td>\n",
       "      <td>75.0</td>\n",
       "      <td>0.0</td>\n",
       "      <td>3</td>\n",
       "      <td>10</td>\n",
       "      <td>13</td>\n",
       "    </tr>\n",
       "    <tr>\n",
       "      <th>4</th>\n",
       "      <td>2011-01-01 4:00:00</td>\n",
       "      <td>1</td>\n",
       "      <td>0</td>\n",
       "      <td>0</td>\n",
       "      <td>1</td>\n",
       "      <td>9.84</td>\n",
       "      <td>14.395</td>\n",
       "      <td>75.0</td>\n",
       "      <td>0.0</td>\n",
       "      <td>0</td>\n",
       "      <td>1</td>\n",
       "      <td>1</td>\n",
       "    </tr>\n",
       "  </tbody>\n",
       "</table>\n",
       "</div>"
      ],
      "text/plain": [
       "             datetime  season  holiday  workingday  weather  temp   atemp  \\\n",
       "0  2011-01-01 0:00:00       1        0           0        1  9.84  14.395   \n",
       "1  2011-01-01 1:00:00       1        0           0        1  9.02  13.635   \n",
       "2  2011-01-01 2:00:00       1        0           0        1  9.02  13.635   \n",
       "3  2011-01-01 3:00:00       1        0           0        1  9.84  14.395   \n",
       "4  2011-01-01 4:00:00       1        0           0        1  9.84  14.395   \n",
       "\n",
       "   humidity  windspeed  casual  registered  count  \n",
       "0      81.0        0.0       3          13     16  \n",
       "1      80.0        0.0       8          32     40  \n",
       "2      80.0        0.0       5          27     32  \n",
       "3      75.0        0.0       3          10     13  \n",
       "4      75.0        0.0       0           1      1  "
      ]
     },
     "execution_count": 2,
     "metadata": {},
     "output_type": "execute_result"
    }
   ],
   "source": [
    "df=pd.read_csv(\"train.csv\")\n",
    "df.head()"
   ]
  },
  {
   "cell_type": "code",
   "execution_count": 7,
   "id": "22be18e0",
   "metadata": {},
   "outputs": [],
   "source": [
    "p1=df['casual']+df['registered']\n",
    "d1=df['datetime']\n",
    "n1=len(d1)\n",
    "s1=[];s2=[];s3=[]\n",
    "date=[];time=[]\n",
    "for i in range(n1):\n",
    "    s1=d1[i]\n",
    "    s2=s1[0:10]\n",
    "    s3=s1[11:18]\n",
    "    date=np.append(date,s2)\n",
    "    time=np.append(time,s3)"
   ]
  },
  {
   "cell_type": "code",
   "execution_count": 6,
   "id": "752cd7a0",
   "metadata": {},
   "outputs": [
    {
     "data": {
      "text/html": [
       "<div>\n",
       "<style scoped>\n",
       "    .dataframe tbody tr th:only-of-type {\n",
       "        vertical-align: middle;\n",
       "    }\n",
       "\n",
       "    .dataframe tbody tr th {\n",
       "        vertical-align: top;\n",
       "    }\n",
       "\n",
       "    .dataframe thead th {\n",
       "        text-align: right;\n",
       "    }\n",
       "</style>\n",
       "<table border=\"1\" class=\"dataframe\">\n",
       "  <thead>\n",
       "    <tr style=\"text-align: right;\">\n",
       "      <th></th>\n",
       "      <th>0</th>\n",
       "    </tr>\n",
       "  </thead>\n",
       "  <tbody>\n",
       "    <tr>\n",
       "      <th>0</th>\n",
       "      <td>0:00:00</td>\n",
       "    </tr>\n",
       "    <tr>\n",
       "      <th>1</th>\n",
       "      <td>1:00:00</td>\n",
       "    </tr>\n",
       "    <tr>\n",
       "      <th>2</th>\n",
       "      <td>2:00:00</td>\n",
       "    </tr>\n",
       "    <tr>\n",
       "      <th>3</th>\n",
       "      <td>3:00:00</td>\n",
       "    </tr>\n",
       "    <tr>\n",
       "      <th>4</th>\n",
       "      <td>4:00:00</td>\n",
       "    </tr>\n",
       "    <tr>\n",
       "      <th>...</th>\n",
       "      <td>...</td>\n",
       "    </tr>\n",
       "    <tr>\n",
       "      <th>12975</th>\n",
       "      <td>20:00:0</td>\n",
       "    </tr>\n",
       "    <tr>\n",
       "      <th>12976</th>\n",
       "      <td>21:00:0</td>\n",
       "    </tr>\n",
       "    <tr>\n",
       "      <th>12977</th>\n",
       "      <td>22:00:0</td>\n",
       "    </tr>\n",
       "    <tr>\n",
       "      <th>12978</th>\n",
       "      <td>23:00:0</td>\n",
       "    </tr>\n",
       "    <tr>\n",
       "      <th>12979</th>\n",
       "      <td>0:00:00</td>\n",
       "    </tr>\n",
       "  </tbody>\n",
       "</table>\n",
       "<p>12980 rows × 1 columns</p>\n",
       "</div>"
      ],
      "text/plain": [
       "             0\n",
       "0      0:00:00\n",
       "1      1:00:00\n",
       "2      2:00:00\n",
       "3      3:00:00\n",
       "4      4:00:00\n",
       "...        ...\n",
       "12975  20:00:0\n",
       "12976  21:00:0\n",
       "12977  22:00:0\n",
       "12978  23:00:0\n",
       "12979  0:00:00\n",
       "\n",
       "[12980 rows x 1 columns]"
      ]
     },
     "execution_count": 6,
     "metadata": {},
     "output_type": "execute_result"
    }
   ],
   "source": [
    "df_date=pd.DataFrame(date)\n",
    "df_date\n",
    "df_time=pd.DataFrame(time)\n",
    "df_time"
   ]
  },
  {
   "cell_type": "code",
   "execution_count": 8,
   "id": "eababe17",
   "metadata": {},
   "outputs": [],
   "source": [
    "#exploratory data analysis\n"
   ]
  },
  {
   "cell_type": "code",
   "execution_count": 9,
   "id": "219f0c79",
   "metadata": {},
   "outputs": [
    {
     "name": "stdout",
     "output_type": "stream",
     "text": [
      "datetime\n",
      "season\n",
      "holiday\n",
      "workingday\n",
      "weather\n",
      "temp\n",
      "atemp\n",
      "humidity\n",
      "windspeed\n",
      "casual\n",
      "registered\n",
      "count\n"
     ]
    }
   ],
   "source": [
    "for col in df.columns:\n",
    "    print(col)"
   ]
  },
  {
   "cell_type": "code",
   "execution_count": 10,
   "id": "b588a4dc",
   "metadata": {},
   "outputs": [
    {
     "data": {
      "text/plain": [
       "datetime       object\n",
       "season          int64\n",
       "holiday         int64\n",
       "workingday      int64\n",
       "weather         int64\n",
       "temp          float64\n",
       "atemp         float64\n",
       "humidity      float64\n",
       "windspeed     float64\n",
       "casual          int64\n",
       "registered      int64\n",
       "count           int64\n",
       "dtype: object"
      ]
     },
     "execution_count": 10,
     "metadata": {},
     "output_type": "execute_result"
    }
   ],
   "source": [
    "df.dtypes"
   ]
  },
  {
   "cell_type": "code",
   "execution_count": 11,
   "id": "46b2dd9b",
   "metadata": {},
   "outputs": [
    {
     "data": {
      "text/html": [
       "<div>\n",
       "<style scoped>\n",
       "    .dataframe tbody tr th:only-of-type {\n",
       "        vertical-align: middle;\n",
       "    }\n",
       "\n",
       "    .dataframe tbody tr th {\n",
       "        vertical-align: top;\n",
       "    }\n",
       "\n",
       "    .dataframe thead th {\n",
       "        text-align: right;\n",
       "    }\n",
       "</style>\n",
       "<table border=\"1\" class=\"dataframe\">\n",
       "  <thead>\n",
       "    <tr style=\"text-align: right;\">\n",
       "      <th></th>\n",
       "      <th>season</th>\n",
       "      <th>holiday</th>\n",
       "      <th>workingday</th>\n",
       "      <th>weather</th>\n",
       "      <th>temp</th>\n",
       "      <th>atemp</th>\n",
       "      <th>humidity</th>\n",
       "      <th>windspeed</th>\n",
       "      <th>casual</th>\n",
       "      <th>registered</th>\n",
       "      <th>count</th>\n",
       "    </tr>\n",
       "  </thead>\n",
       "  <tbody>\n",
       "    <tr>\n",
       "      <th>count</th>\n",
       "      <td>12980.000000</td>\n",
       "      <td>12980.000000</td>\n",
       "      <td>12980.000000</td>\n",
       "      <td>12980.000000</td>\n",
       "      <td>12980.000000</td>\n",
       "      <td>12980.000000</td>\n",
       "      <td>12980.000000</td>\n",
       "      <td>12980.000000</td>\n",
       "      <td>12980.000000</td>\n",
       "      <td>12980.000000</td>\n",
       "      <td>12980.000000</td>\n",
       "    </tr>\n",
       "    <tr>\n",
       "      <th>mean</th>\n",
       "      <td>2.211479</td>\n",
       "      <td>0.027504</td>\n",
       "      <td>0.685978</td>\n",
       "      <td>1.426656</td>\n",
       "      <td>19.725422</td>\n",
       "      <td>23.112436</td>\n",
       "      <td>62.358552</td>\n",
       "      <td>13.141760</td>\n",
       "      <td>32.441757</td>\n",
       "      <td>135.136055</td>\n",
       "      <td>167.577812</td>\n",
       "    </tr>\n",
       "    <tr>\n",
       "      <th>std</th>\n",
       "      <td>1.053046</td>\n",
       "      <td>0.163553</td>\n",
       "      <td>0.464143</td>\n",
       "      <td>0.647955</td>\n",
       "      <td>7.828902</td>\n",
       "      <td>8.552046</td>\n",
       "      <td>19.963696</td>\n",
       "      <td>8.325987</td>\n",
       "      <td>46.636228</td>\n",
       "      <td>131.921431</td>\n",
       "      <td>160.758887</td>\n",
       "    </tr>\n",
       "    <tr>\n",
       "      <th>min</th>\n",
       "      <td>1.000000</td>\n",
       "      <td>0.000000</td>\n",
       "      <td>0.000000</td>\n",
       "      <td>1.000000</td>\n",
       "      <td>0.820000</td>\n",
       "      <td>0.000000</td>\n",
       "      <td>0.000000</td>\n",
       "      <td>0.000000</td>\n",
       "      <td>0.000000</td>\n",
       "      <td>0.000000</td>\n",
       "      <td>1.000000</td>\n",
       "    </tr>\n",
       "    <tr>\n",
       "      <th>25%</th>\n",
       "      <td>1.000000</td>\n",
       "      <td>0.000000</td>\n",
       "      <td>0.000000</td>\n",
       "      <td>1.000000</td>\n",
       "      <td>13.120000</td>\n",
       "      <td>15.910000</td>\n",
       "      <td>47.000000</td>\n",
       "      <td>7.001500</td>\n",
       "      <td>3.000000</td>\n",
       "      <td>30.000000</td>\n",
       "      <td>35.000000</td>\n",
       "    </tr>\n",
       "    <tr>\n",
       "      <th>50%</th>\n",
       "      <td>2.000000</td>\n",
       "      <td>0.000000</td>\n",
       "      <td>1.000000</td>\n",
       "      <td>1.000000</td>\n",
       "      <td>19.680000</td>\n",
       "      <td>23.485000</td>\n",
       "      <td>62.000000</td>\n",
       "      <td>12.998000</td>\n",
       "      <td>14.000000</td>\n",
       "      <td>103.000000</td>\n",
       "      <td>124.000000</td>\n",
       "    </tr>\n",
       "    <tr>\n",
       "      <th>75%</th>\n",
       "      <td>3.000000</td>\n",
       "      <td>0.000000</td>\n",
       "      <td>1.000000</td>\n",
       "      <td>2.000000</td>\n",
       "      <td>26.240000</td>\n",
       "      <td>30.305000</td>\n",
       "      <td>79.000000</td>\n",
       "      <td>19.001200</td>\n",
       "      <td>42.000000</td>\n",
       "      <td>194.000000</td>\n",
       "      <td>245.000000</td>\n",
       "    </tr>\n",
       "    <tr>\n",
       "      <th>max</th>\n",
       "      <td>4.000000</td>\n",
       "      <td>1.000000</td>\n",
       "      <td>1.000000</td>\n",
       "      <td>4.000000</td>\n",
       "      <td>40.180000</td>\n",
       "      <td>50.000000</td>\n",
       "      <td>100.000000</td>\n",
       "      <td>56.996900</td>\n",
       "      <td>367.000000</td>\n",
       "      <td>796.000000</td>\n",
       "      <td>957.000000</td>\n",
       "    </tr>\n",
       "  </tbody>\n",
       "</table>\n",
       "</div>"
      ],
      "text/plain": [
       "             season       holiday    workingday       weather          temp  \\\n",
       "count  12980.000000  12980.000000  12980.000000  12980.000000  12980.000000   \n",
       "mean       2.211479      0.027504      0.685978      1.426656     19.725422   \n",
       "std        1.053046      0.163553      0.464143      0.647955      7.828902   \n",
       "min        1.000000      0.000000      0.000000      1.000000      0.820000   \n",
       "25%        1.000000      0.000000      0.000000      1.000000     13.120000   \n",
       "50%        2.000000      0.000000      1.000000      1.000000     19.680000   \n",
       "75%        3.000000      0.000000      1.000000      2.000000     26.240000   \n",
       "max        4.000000      1.000000      1.000000      4.000000     40.180000   \n",
       "\n",
       "              atemp      humidity     windspeed        casual    registered  \\\n",
       "count  12980.000000  12980.000000  12980.000000  12980.000000  12980.000000   \n",
       "mean      23.112436     62.358552     13.141760     32.441757    135.136055   \n",
       "std        8.552046     19.963696      8.325987     46.636228    131.921431   \n",
       "min        0.000000      0.000000      0.000000      0.000000      0.000000   \n",
       "25%       15.910000     47.000000      7.001500      3.000000     30.000000   \n",
       "50%       23.485000     62.000000     12.998000     14.000000    103.000000   \n",
       "75%       30.305000     79.000000     19.001200     42.000000    194.000000   \n",
       "max       50.000000    100.000000     56.996900    367.000000    796.000000   \n",
       "\n",
       "              count  \n",
       "count  12980.000000  \n",
       "mean     167.577812  \n",
       "std      160.758887  \n",
       "min        1.000000  \n",
       "25%       35.000000  \n",
       "50%      124.000000  \n",
       "75%      245.000000  \n",
       "max      957.000000  "
      ]
     },
     "execution_count": 11,
     "metadata": {},
     "output_type": "execute_result"
    }
   ],
   "source": [
    "df.describe()"
   ]
  },
  {
   "cell_type": "code",
   "execution_count": 12,
   "id": "0e2611de",
   "metadata": {},
   "outputs": [
    {
     "name": "stdout",
     "output_type": "stream",
     "text": [
      "0    0.972496\n",
      "1    0.027504\n",
      "Name: holiday, dtype: float64\n"
     ]
    },
    {
     "data": {
      "text/plain": [
       "([<matplotlib.patches.Wedge at 0x1f561a97820>,\n",
       "  <matplotlib.patches.Wedge at 0x1f561a97fd0>],\n",
       " [Text(-1.3449635999506377, 0.11650285321751076, 'holiday'),\n",
       "  Text(1.3449636013141106, -0.11650283747693856, 'non_holiday')])"
      ]
     },
     "execution_count": 12,
     "metadata": {},
     "output_type": "execute_result"
    },
    {
     "data": {
      "image/png": "[encoded data removed]",
      "text/plain": [
       "<Figure size 432x288 with 1 Axes>"
      ]
     },
     "metadata": {},
     "output_type": "display_data"
    }
   ],
   "source": [
    "print(df['holiday'].value_counts()/len(df['holiday']))\n",
    "r=pd.get_dummies(df['holiday'])\n",
    "r1=(sum(r[0]),sum(r[1]))\n",
    "plt.pie(r1,labels=[\"holiday\",\"non_holiday\"],shadow=True,explode=(.25,.25))"
   ]
  },
  {
   "cell_type": "code",
   "execution_count": 13,
   "id": "795d8673",
   "metadata": {},
   "outputs": [
    {
     "name": "stdout",
     "output_type": "stream",
     "text": [
      "2    0.339676\n",
      "1    0.306626\n",
      "3    0.189291\n",
      "4    0.164407\n",
      "Name: season, dtype: float64\n"
     ]
    },
    {
     "data": {
      "text/plain": [
       "([<matplotlib.patches.Wedge at 0x1f5623ee760>,\n",
       "  <matplotlib.patches.Wedge at 0x1f5623eef70>,\n",
       "  <matplotlib.patches.Wedge at 0x1f5623fc5e0>,\n",
       "  <matplotlib.patches.Wedge at 0x1f5623fcd30>],\n",
       " [Text(0.6849834818611573, 0.9852906320357288, 'spring'),\n",
       "  Text(-1.186902383878412, 0.17681270074217714, 'summer'),\n",
       "  Text(-0.0682164931447549, -1.198059476847052, 'rainy'),\n",
       "  Text(1.0434641058363436, -0.5926066653617387, 'winter')])"
      ]
     },
     "execution_count": 13,
     "metadata": {},
     "output_type": "execute_result"
    },
    {
     "data": {
      "image/png": "[encoded data removed]",
      "text/plain": [
       "<Figure size 432x288 with 1 Axes>"
      ]
     },
     "metadata": {},
     "output_type": "display_data"
    }
   ],
   "source": [
    "print(df['season'].value_counts()/len(df['season']))\n",
    "r2=pd.get_dummies(df['season'])\n",
    "r3=(sum(r2[1]),sum(r2[2]),sum(r2[3]),sum(r2[4]))\n",
    "plt.pie(r3,labels=[\"spring\",\"summer\",\"rainy\",\"winter\"],shadow=True,explode=(.10,.10,.10,.10))"
   ]
  },
  {
   "cell_type": "code",
   "execution_count": 14,
   "id": "40d8a76a",
   "metadata": {},
   "outputs": [
    {
     "name": "stdout",
     "output_type": "stream",
     "text": [
      "1    0.685978\n",
      "0    0.314022\n",
      "Name: workingday, dtype: float64\n"
     ]
    },
    {
     "data": {
      "text/plain": [
       "([<matplotlib.patches.Wedge at 0x1f562453070>,\n",
       "  <matplotlib.patches.Wedge at 0x1f562453850>],\n",
       " [Text(0.6343277885138389, 0.9592331607691337, 'workingday'),\n",
       "  Text(-0.6343278783237262, -0.9592331013790757, 'non_workingday')])"
      ]
     },
     "execution_count": 14,
     "metadata": {},
     "output_type": "execute_result"
    },
    {
     "data": {
      "image/png": "[encoded data removed]",
      "text/plain": [
       "<Figure size 432x288 with 1 Axes>"
      ]
     },
     "metadata": {},
     "output_type": "display_data"
    }
   ],
   "source": [
    "print(df['workingday'].value_counts()/len(df['workingday']))\n",
    "r4=pd.get_dummies(df['workingday'])\n",
    "r5=(sum(r4[0]),sum(r4[1]))\n",
    "plt.pie(r5,labels=[\"workingday\",\"non_workingday\"],shadow=True,explode=(.05,.05))"
   ]
  },
  {
   "cell_type": "code",
   "execution_count": 15,
   "id": "e2b86318",
   "metadata": {},
   "outputs": [],
   "source": [
    "#REGRESSION ANALYSIS"
   ]
  },
  {
   "cell_type": "code",
   "execution_count": 16,
   "id": "c9ad8a61",
   "metadata": {},
   "outputs": [],
   "source": [
    "x=df[[\"holiday\",\"workingday\",\"weather\",\"temp\",\"humidity\",\"windspeed\"]]\n",
    "y=df[[\"count\"]]"
   ]
  },
  {
   "cell_type": "code",
   "execution_count": 17,
   "id": "1b899d2d",
   "metadata": {},
   "outputs": [],
   "source": [
    "from sklearn.preprocessing import StandardScaler\n",
    "stc=StandardScaler()\n",
    "x=stc.fit_transform(x)\n",
    "y=stc.fit_transform(y)\n",
    "x_train,x_test,y_train,y_test=train_test_split(x,y,test_size=.20)"
   ]
  },
  {
   "cell_type": "code",
   "execution_count": 18,
   "id": "26c1fb9b",
   "metadata": {},
   "outputs": [
    {
     "data": {
      "text/plain": [
       "LinearRegression()"
      ]
     },
     "execution_count": 18,
     "metadata": {},
     "output_type": "execute_result"
    }
   ],
   "source": [
    "from sklearn.linear_model import LinearRegression\n",
    "lreg=LinearRegression()\n",
    "lreg.fit(x_train,y_train)"
   ]
  },
  {
   "cell_type": "code",
   "execution_count": 19,
   "id": "5e8aab34",
   "metadata": {},
   "outputs": [
    {
     "data": {
      "text/plain": [
       "[<matplotlib.lines.Line2D at 0x1f5624a4e80>]"
      ]
     },
     "execution_count": 19,
     "metadata": {},
     "output_type": "execute_result"
    },
    {
     "data": {
      "image/png": "[encoded data removed]",
      "text/plain": [
       "<Figure size 432x288 with 1 Axes>"
      ]
     },
     "metadata": {
      "needs_background": "light"
     },
     "output_type": "display_data"
    }
   ],
   "source": [
    "plt.plot(lreg.predict(x_train)[0:100])\n",
    "plt.plot(y_train[0:100])"
   ]
  },
  {
   "cell_type": "code",
   "execution_count": 20,
   "id": "6db60def",
   "metadata": {},
   "outputs": [
    {
     "name": "stdout",
     "output_type": "stream",
     "text": [
      "[[ 0.02660644]\n",
      " [-0.86859924]\n",
      " [-0.42631669]\n",
      " ...\n",
      " [ 0.08332433]\n",
      " [-0.23817438]\n",
      " [ 0.2213713 ]]\n"
     ]
    }
   ],
   "source": [
    "count=lreg.predict(x_train)\n",
    "print(count)"
   ]
  },
  {
   "cell_type": "code",
   "execution_count": 21,
   "id": "f9159b10",
   "metadata": {},
   "outputs": [],
   "source": [
    "sd=np.std(df[\"count\"].values)\n",
    "m=np.mean(df[\"count\"].values)"
   ]
  },
  {
   "cell_type": "code",
   "execution_count": 22,
   "id": "f0224f54",
   "metadata": {},
   "outputs": [
    {
     "name": "stdout",
     "output_type": "stream",
     "text": [
      "[171.85486974  27.9481442   99.04625555 ... 180.97242212 129.29063827\n",
      " 203.16384498]\n"
     ]
    }
   ],
   "source": [
    "a=[]\n",
    "b=[]\n",
    "for i in count:\n",
    "    b=(i*sd)+m\n",
    "    a=np.append(a,b)\n",
    "print(a)"
   ]
  },
  {
   "cell_type": "code",
   "execution_count": 23,
   "id": "2528051d",
   "metadata": {},
   "outputs": [
    {
     "data": {
      "text/plain": [
       "35013.04207558246"
      ]
     },
     "execution_count": 23,
     "metadata": {},
     "output_type": "execute_result"
    }
   ],
   "source": [
    "from sklearn.metrics import mean_squared_error\n",
    "mse=mean_squared_error\n",
    "mse(a,y_train)"
   ]
  },
  {
   "cell_type": "code",
   "execution_count": 24,
   "id": "2d39be8b",
   "metadata": {},
   "outputs": [],
   "source": [
    "n=24\n",
    "pi=a\n",
    "a1=y_train"
   ]
  },
  {
   "cell_type": "code",
   "execution_count": 25,
   "id": "2870e218",
   "metadata": {},
   "outputs": [
    {
     "name": "stderr",
     "output_type": "stream",
     "text": [
      "C:\\Users\\ASUS\\AppData\\Local\\Temp/ipykernel_12580/1885644836.py:3: RuntimeWarning: invalid value encountered in log\n",
      "  ms_error=np.sqrt((np.nansum((np.log(y_pri+1)-np.log(y_act+1))**2))/n)\n"
     ]
    },
    {
     "data": {
      "text/plain": [
       "11646.323008204321"
      ]
     },
     "execution_count": 25,
     "metadata": {},
     "output_type": "execute_result"
    }
   ],
   "source": [
    "#Root Mean Squared Logarithmic Error (RMSLE)\n",
    "def RMSLE(num,y_pri,y_act):\n",
    "    ms_error=np.sqrt((np.nansum((np.log(y_pri+1)-np.log(y_act+1))**2))/n)\n",
    "    return ms_error\n",
    "RMSLE(n,pi,a1)"
   ]
  },
  {
   "cell_type": "code",
   "execution_count": null,
   "id": "736bec60",
   "metadata": {},
   "outputs": [],
   "source": []
  }
 ],
 "metadata": {
  "kernelspec": {
   "display_name": "Python 3 (ipykernel)",
   "language": "python",
   "name": "python3"
  },
  "language_info": {
   "codemirror_mode": {
    "name": "ipython",
    "version": 3
   },
   "file_extension": ".py",
   "mimetype": "text/x-python",
   "name": "python",
   "nbconvert_exporter": "python",
   "pygments_lexer": "ipython3",
   "version": "3.9.7"
  }
 },
 "nbformat": 4,
 "nbformat_minor": 5
}
