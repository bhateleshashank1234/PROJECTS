{
 "cells": [
  {
   "cell_type": "code",
   "execution_count": 6,
   "id": "a67b1ace",
   "metadata": {},
   "outputs": [],
   "source": [
    "article_text='Natural language processing (NLP) refers to the branch of computer science—and more specifically, the branch of artificial intelligence or AI—concerned with giving computers the ability to understand text and spoken words in much the same way human beings can. NLP combines computational linguistics—rule-based modeling of human language—with statistical, machine learning, and deep learning models. Together, these technologies enable computers to process human language in the form of text or voice data and to ‘understand’ its full meaning, complete with the speaker or writer’s intent and sentiment.NLP drives computer programs that translate text from one language to another, respond to spoken commands, and summarize large volumes of text rapidly—even in real time. There’s a good chance you’ve interacted with NLP in the form of voice-operated GPS systems, digital assistants, speech-to-text dictation software, customer service chatbots, and other consumer conveniences. But NLP also plays a growing role in enterprise solutions that help streamline business operations, increase employee productivity, and simplify mission-critical business processes. Human language is filled with ambiguities that make it incredibly difficult to write software that accurately determines the intended meaning of text or voice data. Homonyms, homophones, sarcasm, idioms, metaphors, grammar and usage exceptions, variations in sentence structure—these just a few of the irregularities of human language that take humans years to learn, but that programmers must teach natural language-driven applications to recognize and understand accurately from the start, if those applications are going to be useful. The Python programing language provides a wide range of tools and libraries for attacking specific NLP tasks. Many of these are found in the Natural Language Toolkit, or NLTK, an open source collection of libraries, programs, and education resources for building NLP programs. The NLTK includes libraries for many of the NLP tasks listed above, plus libraries for subtasks, such as sentence parsing, word segmentation, stemming and lemmatization (methods of trimming words down to their roots), and tokenization (for breaking phrases, sentences, paragraphs and passages into tokens that help the computer better understand the text). It also includes libraries for implementing capabilities such as semantic reasoning, the ability to reach logical conclusions based on facts extracted from text. The earliest NLP applications were hand-coded, rules-based systems that could perform certain NLP tasks, but couldnt easily scale to accommodate a seemingly endless stream of exceptions or the increasing volumes of text and voice data.Enter statistical NLP, which combines computer algorithms with machine learning and deep learning models to automatically extract, classify, and label elements of text and voice data and then assign a statistical likelihood to each possible meaning of those elements. Today, deep learning models and learning techniques based on convolutional neural networks (CNNs) and recurrent neural networks (RNNs) enable NLP systems that learn as they work and extract ever more accurate meaning from huge volumes of raw, unstructured, and unlabeled text and voice data sets.'"
   ]
  },
  {
   "cell_type": "code",
   "execution_count": 7,
   "id": "3fc52508",
   "metadata": {},
   "outputs": [
    {
     "name": "stderr",
     "output_type": "stream",
     "text": [
      "[nltk_data] Downloading package punkt to\n",
      "[nltk_data]     C:\\Users\\ASUS\\AppData\\Roaming\\nltk_data...\n",
      "[nltk_data]   Package punkt is already up-to-date!\n"
     ]
    },
    {
     "data": {
      "text/plain": [
       "True"
      ]
     },
     "execution_count": 7,
     "metadata": {},
     "output_type": "execute_result"
    }
   ],
   "source": [
    "import nltk\n",
    "nltk.download('punkt')"
   ]
  },
  {
   "cell_type": "code",
   "execution_count": 8,
   "id": "7b6196ce",
   "metadata": {},
   "outputs": [
    {
     "name": "stderr",
     "output_type": "stream",
     "text": [
      "[nltk_data] Downloading package stopwords to\n",
      "[nltk_data]     C:\\Users\\ASUS\\AppData\\Roaming\\nltk_data...\n",
      "[nltk_data]   Package stopwords is already up-to-date!\n"
     ]
    },
    {
     "data": {
      "text/plain": [
       "True"
      ]
     },
     "execution_count": 8,
     "metadata": {},
     "output_type": "execute_result"
    }
   ],
   "source": [
    "import nltk\n",
    "nltk.download('stopwords')"
   ]
  },
  {
   "cell_type": "code",
   "execution_count": 9,
   "id": "242e8ac8",
   "metadata": {},
   "outputs": [],
   "source": [
    "import re\n",
    "import nltk"
   ]
  },
  {
   "cell_type": "code",
   "execution_count": 10,
   "id": "7c5a63fc",
   "metadata": {},
   "outputs": [
    {
     "data": {
      "text/plain": [
       "'natural language processing (nlp) refers to the branch of computer science—and more specifically, the branch of artificial intelligence or ai—concerned with giving computers the ability to understand text and spoken words in much the same way human beings can. nlp combines computational linguistics—rule-based modeling of human language—with statistical, machine learning, and deep learning models. together, these technologies enable computers to process human language in the form of text or voice data and to ‘understand’ its full meaning, complete with the speaker or writer’s intent and sentiment.nlp drives computer programs that translate text from one language to another, respond to spoken commands, and summarize large volumes of text rapidly—even in real time. there’s a good chance you’ve interacted with nlp in the form of voice-operated gps systems, digital assistants, speech-to-text dictation software, customer service chatbots, and other consumer conveniences. but nlp also plays a growing role in enterprise solutions that help streamline business operations, increase employee productivity, and simplify mission-critical business processes. human language is filled with ambiguities that make it incredibly difficult to write software that accurately determines the intended meaning of text or voice data. homonyms, homophones, sarcasm, idioms, metaphors, grammar and usage exceptions, variations in sentence structure—these just a few of the irregularities of human language that take humans years to learn, but that programmers must teach natural language-driven applications to recognize and understand accurately from the start, if those applications are going to be useful. the python programing language provides a wide range of tools and libraries for attacking specific nlp tasks. many of these are found in the natural language toolkit, or nltk, an open source collection of libraries, programs, and education resources for building nlp programs. the nltk includes libraries for many of the nlp tasks listed above, plus libraries for subtasks, such as sentence parsing, word segmentation, stemming and lemmatization (methods of trimming words down to their roots), and tokenization (for breaking phrases, sentences, paragraphs and passages into tokens that help the computer better understand the text). it also includes libraries for implementing capabilities such as semantic reasoning, the ability to reach logical conclusions based on facts extracted from text. the earliest nlp applications were hand-coded, rules-based systems that could perform certain nlp tasks, but couldnt easily scale to accommodate a seemingly endless stream of exceptions or the increasing volumes of text and voice data.enter statistical nlp, which combines computer algorithms with machine learning and deep learning models to automatically extract, classify, and label elements of text and voice data and then assign a statistical likelihood to each possible meaning of those elements. today, deep learning models and learning techniques based on convolutional neural networks (cnns) and recurrent neural networks (rnns) enable nlp systems that learn as they work and extract ever more accurate meaning from huge volumes of raw, unstructured, and unlabeled text and voice data sets.'"
      ]
     },
     "execution_count": 10,
     "metadata": {},
     "output_type": "execute_result"
    }
   ],
   "source": [
    "article_text = article_text.lower()\n",
    "article_text"
   ]
  },
  {
   "cell_type": "code",
   "execution_count": 11,
   "id": "44dd0ef0",
   "metadata": {},
   "outputs": [
    {
     "data": {
      "text/plain": [
       "'natural language processing nlp refers to the branch of computer science and more specifically the branch of artificial intelligence or ai concerned with giving computers the ability to understand text and spoken words in much the same way human beings can nlp combines computational linguistics rule based modeling of human language with statistical machine learning and deep learning models together these technologies enable computers to process human language in the form of text or voice data and to understand its full meaning complete with the speaker or writer s intent and sentiment nlp drives computer programs that translate text from one language to another respond to spoken commands and summarize large volumes of text rapidly even in real time there s a good chance you ve interacted with nlp in the form of voice operated gps systems digital assistants speech to text dictation software customer service chatbots and other consumer conveniences but nlp also plays a growing role in enterprise solutions that help streamline business operations increase employee productivity and simplify mission critical business processes human language is filled with ambiguities that make it incredibly difficult to write software that accurately determines the intended meaning of text or voice data homonyms homophones sarcasm idioms metaphors grammar and usage exceptions variations in sentence structure these just a few of the irregularities of human language that take humans years to learn but that programmers must teach natural language driven applications to recognize and understand accurately from the start if those applications are going to be useful the python programing language provides a wide range of tools and libraries for attacking specific nlp tasks many of these are found in the natural language toolkit or nltk an open source collection of libraries programs and education resources for building nlp programs the nltk includes libraries for many of the nlp tasks listed above plus libraries for subtasks such as sentence parsing word segmentation stemming and lemmatization methods of trimming words down to their roots and tokenization for breaking phrases sentences paragraphs and passages into tokens that help the computer better understand the text it also includes libraries for implementing capabilities such as semantic reasoning the ability to reach logical conclusions based on facts extracted from text the earliest nlp applications were hand coded rules based systems that could perform certain nlp tasks but couldnt easily scale to accommodate a seemingly endless stream of exceptions or the increasing volumes of text and voice data enter statistical nlp which combines computer algorithms with machine learning and deep learning models to automatically extract classify and label elements of text and voice data and then assign a statistical likelihood to each possible meaning of those elements today deep learning models and learning techniques based on convolutional neural networks cnns and recurrent neural networks rnns enable nlp systems that learn as they work and extract ever more accurate meaning from huge volumes of raw unstructured and unlabeled text and voice data sets '"
      ]
     },
     "execution_count": 11,
     "metadata": {},
     "output_type": "execute_result"
    }
   ],
   "source": [
    "# remove spaces, punctuations and numbers\n",
    "clean_text = re.sub('[^a-zA-Z]', ' ', article_text)\n",
    "clean_text = re.sub('\\s+', ' ', clean_text)\n",
    "clean_text"
   ]
  },
  {
   "cell_type": "code",
   "execution_count": 12,
   "id": "e80514c7",
   "metadata": {},
   "outputs": [
    {
     "data": {
      "text/plain": [
       "['natural language processing (nlp) refers to the branch of computer science—and more specifically, the branch of artificial intelligence or ai—concerned with giving computers the ability to understand text and spoken words in much the same way human beings can.',\n",
       " 'nlp combines computational linguistics—rule-based modeling of human language—with statistical, machine learning, and deep learning models.',\n",
       " 'together, these technologies enable computers to process human language in the form of text or voice data and to ‘understand’ its full meaning, complete with the speaker or writer’s intent and sentiment.nlp drives computer programs that translate text from one language to another, respond to spoken commands, and summarize large volumes of text rapidly—even in real time.',\n",
       " 'there’s a good chance you’ve interacted with nlp in the form of voice-operated gps systems, digital assistants, speech-to-text dictation software, customer service chatbots, and other consumer conveniences.',\n",
       " 'but nlp also plays a growing role in enterprise solutions that help streamline business operations, increase employee productivity, and simplify mission-critical business processes.',\n",
       " 'human language is filled with ambiguities that make it incredibly difficult to write software that accurately determines the intended meaning of text or voice data.',\n",
       " 'homonyms, homophones, sarcasm, idioms, metaphors, grammar and usage exceptions, variations in sentence structure—these just a few of the irregularities of human language that take humans years to learn, but that programmers must teach natural language-driven applications to recognize and understand accurately from the start, if those applications are going to be useful.',\n",
       " 'the python programing language provides a wide range of tools and libraries for attacking specific nlp tasks.',\n",
       " 'many of these are found in the natural language toolkit, or nltk, an open source collection of libraries, programs, and education resources for building nlp programs.',\n",
       " 'the nltk includes libraries for many of the nlp tasks listed above, plus libraries for subtasks, such as sentence parsing, word segmentation, stemming and lemmatization (methods of trimming words down to their roots), and tokenization (for breaking phrases, sentences, paragraphs and passages into tokens that help the computer better understand the text).',\n",
       " 'it also includes libraries for implementing capabilities such as semantic reasoning, the ability to reach logical conclusions based on facts extracted from text.',\n",
       " 'the earliest nlp applications were hand-coded, rules-based systems that could perform certain nlp tasks, but couldnt easily scale to accommodate a seemingly endless stream of exceptions or the increasing volumes of text and voice data.enter statistical nlp, which combines computer algorithms with machine learning and deep learning models to automatically extract, classify, and label elements of text and voice data and then assign a statistical likelihood to each possible meaning of those elements.',\n",
       " 'today, deep learning models and learning techniques based on convolutional neural networks (cnns) and recurrent neural networks (rnns) enable nlp systems that learn as they work and extract ever more accurate meaning from huge volumes of raw, unstructured, and unlabeled text and voice data sets.']"
      ]
     },
     "execution_count": 12,
     "metadata": {},
     "output_type": "execute_result"
    }
   ],
   "source": [
    "# split into sentence list\n",
    "sentence_list = nltk.sent_tokenize(article_text)\n",
    "sentence_list"
   ]
  },
  {
   "cell_type": "code",
   "execution_count": 14,
   "id": "cfd7b77e",
   "metadata": {},
   "outputs": [],
   "source": [
    "#Word Frequencies\n",
    "\n",
    "stopwords = nltk.corpus.stopwords.words('english')\n",
    "\n",
    "word_frequencies = {}\n",
    "for word in nltk.word_tokenize(clean_text):\n",
    "    if word not in stopwords:\n",
    "        if word not in word_frequencies:\n",
    "            word_frequencies[word] = 1\n",
    "        else:\n",
    "            word_frequencies[word] += 1\n",
    "            maximum_frequency = max(word_frequencies.values())\n",
    "\n",
    "for word in word_frequencies:\n",
    "    word_frequencies[word] = word_frequencies[word] / maximum_frequency"
   ]
  },
  {
   "cell_type": "code",
   "execution_count": 15,
   "id": "af6c11ea",
   "metadata": {},
   "outputs": [
    {
     "data": {
      "text/plain": [
       "{'natural': 0.25,\n",
       " 'language': 0.75,\n",
       " 'processing': 0.08333333333333333,\n",
       " 'nlp': 1.0,\n",
       " 'refers': 0.08333333333333333,\n",
       " 'branch': 0.16666666666666666,\n",
       " 'computer': 0.3333333333333333,\n",
       " 'science': 0.08333333333333333,\n",
       " 'specifically': 0.08333333333333333,\n",
       " 'artificial': 0.08333333333333333,\n",
       " 'intelligence': 0.08333333333333333,\n",
       " 'ai': 0.08333333333333333,\n",
       " 'concerned': 0.08333333333333333,\n",
       " 'giving': 0.08333333333333333,\n",
       " 'computers': 0.16666666666666666,\n",
       " 'ability': 0.16666666666666666,\n",
       " 'understand': 0.3333333333333333,\n",
       " 'text': 0.9166666666666666,\n",
       " 'spoken': 0.16666666666666666,\n",
       " 'words': 0.16666666666666666,\n",
       " 'much': 0.08333333333333333,\n",
       " 'way': 0.08333333333333333,\n",
       " 'human': 0.4166666666666667,\n",
       " 'beings': 0.08333333333333333,\n",
       " 'combines': 0.16666666666666666,\n",
       " 'computational': 0.08333333333333333,\n",
       " 'linguistics': 0.08333333333333333,\n",
       " 'rule': 0.08333333333333333,\n",
       " 'based': 0.3333333333333333,\n",
       " 'modeling': 0.08333333333333333,\n",
       " 'statistical': 0.25,\n",
       " 'machine': 0.16666666666666666,\n",
       " 'learning': 0.5,\n",
       " 'deep': 0.25,\n",
       " 'models': 0.25,\n",
       " 'together': 0.08333333333333333,\n",
       " 'technologies': 0.08333333333333333,\n",
       " 'enable': 0.16666666666666666,\n",
       " 'process': 0.08333333333333333,\n",
       " 'form': 0.16666666666666666,\n",
       " 'voice': 0.5,\n",
       " 'data': 0.4166666666666667,\n",
       " 'full': 0.08333333333333333,\n",
       " 'meaning': 0.3333333333333333,\n",
       " 'complete': 0.08333333333333333,\n",
       " 'speaker': 0.08333333333333333,\n",
       " 'writer': 0.08333333333333333,\n",
       " 'intent': 0.08333333333333333,\n",
       " 'sentiment': 0.08333333333333333,\n",
       " 'drives': 0.08333333333333333,\n",
       " 'programs': 0.25,\n",
       " 'translate': 0.08333333333333333,\n",
       " 'one': 0.08333333333333333,\n",
       " 'another': 0.08333333333333333,\n",
       " 'respond': 0.08333333333333333,\n",
       " 'commands': 0.08333333333333333,\n",
       " 'summarize': 0.08333333333333333,\n",
       " 'large': 0.08333333333333333,\n",
       " 'volumes': 0.25,\n",
       " 'rapidly': 0.08333333333333333,\n",
       " 'even': 0.08333333333333333,\n",
       " 'real': 0.08333333333333333,\n",
       " 'time': 0.08333333333333333,\n",
       " 'good': 0.08333333333333333,\n",
       " 'chance': 0.08333333333333333,\n",
       " 'interacted': 0.08333333333333333,\n",
       " 'operated': 0.08333333333333333,\n",
       " 'gps': 0.08333333333333333,\n",
       " 'systems': 0.25,\n",
       " 'digital': 0.08333333333333333,\n",
       " 'assistants': 0.08333333333333333,\n",
       " 'speech': 0.08333333333333333,\n",
       " 'dictation': 0.08333333333333333,\n",
       " 'software': 0.16666666666666666,\n",
       " 'customer': 0.08333333333333333,\n",
       " 'service': 0.08333333333333333,\n",
       " 'chatbots': 0.08333333333333333,\n",
       " 'consumer': 0.08333333333333333,\n",
       " 'conveniences': 0.08333333333333333,\n",
       " 'also': 0.16666666666666666,\n",
       " 'plays': 0.08333333333333333,\n",
       " 'growing': 0.08333333333333333,\n",
       " 'role': 0.08333333333333333,\n",
       " 'enterprise': 0.08333333333333333,\n",
       " 'solutions': 0.08333333333333333,\n",
       " 'help': 0.16666666666666666,\n",
       " 'streamline': 0.08333333333333333,\n",
       " 'business': 0.16666666666666666,\n",
       " 'operations': 0.08333333333333333,\n",
       " 'increase': 0.08333333333333333,\n",
       " 'employee': 0.08333333333333333,\n",
       " 'productivity': 0.08333333333333333,\n",
       " 'simplify': 0.08333333333333333,\n",
       " 'mission': 0.08333333333333333,\n",
       " 'critical': 0.08333333333333333,\n",
       " 'processes': 0.08333333333333333,\n",
       " 'filled': 0.08333333333333333,\n",
       " 'ambiguities': 0.08333333333333333,\n",
       " 'make': 0.08333333333333333,\n",
       " 'incredibly': 0.08333333333333333,\n",
       " 'difficult': 0.08333333333333333,\n",
       " 'write': 0.08333333333333333,\n",
       " 'accurately': 0.16666666666666666,\n",
       " 'determines': 0.08333333333333333,\n",
       " 'intended': 0.08333333333333333,\n",
       " 'homonyms': 0.08333333333333333,\n",
       " 'homophones': 0.08333333333333333,\n",
       " 'sarcasm': 0.08333333333333333,\n",
       " 'idioms': 0.08333333333333333,\n",
       " 'metaphors': 0.08333333333333333,\n",
       " 'grammar': 0.08333333333333333,\n",
       " 'usage': 0.08333333333333333,\n",
       " 'exceptions': 0.16666666666666666,\n",
       " 'variations': 0.08333333333333333,\n",
       " 'sentence': 0.16666666666666666,\n",
       " 'structure': 0.08333333333333333,\n",
       " 'irregularities': 0.08333333333333333,\n",
       " 'take': 0.08333333333333333,\n",
       " 'humans': 0.08333333333333333,\n",
       " 'years': 0.08333333333333333,\n",
       " 'learn': 0.16666666666666666,\n",
       " 'programmers': 0.08333333333333333,\n",
       " 'must': 0.08333333333333333,\n",
       " 'teach': 0.08333333333333333,\n",
       " 'driven': 0.08333333333333333,\n",
       " 'applications': 0.25,\n",
       " 'recognize': 0.08333333333333333,\n",
       " 'start': 0.08333333333333333,\n",
       " 'going': 0.08333333333333333,\n",
       " 'useful': 0.08333333333333333,\n",
       " 'python': 0.08333333333333333,\n",
       " 'programing': 0.08333333333333333,\n",
       " 'provides': 0.08333333333333333,\n",
       " 'wide': 0.08333333333333333,\n",
       " 'range': 0.08333333333333333,\n",
       " 'tools': 0.08333333333333333,\n",
       " 'libraries': 0.4166666666666667,\n",
       " 'attacking': 0.08333333333333333,\n",
       " 'specific': 0.08333333333333333,\n",
       " 'tasks': 0.25,\n",
       " 'many': 0.16666666666666666,\n",
       " 'found': 0.08333333333333333,\n",
       " 'toolkit': 0.08333333333333333,\n",
       " 'nltk': 0.16666666666666666,\n",
       " 'open': 0.08333333333333333,\n",
       " 'source': 0.08333333333333333,\n",
       " 'collection': 0.08333333333333333,\n",
       " 'education': 0.08333333333333333,\n",
       " 'resources': 0.08333333333333333,\n",
       " 'building': 0.08333333333333333,\n",
       " 'includes': 0.16666666666666666,\n",
       " 'listed': 0.08333333333333333,\n",
       " 'plus': 0.08333333333333333,\n",
       " 'subtasks': 0.08333333333333333,\n",
       " 'parsing': 0.08333333333333333,\n",
       " 'word': 0.08333333333333333,\n",
       " 'segmentation': 0.08333333333333333,\n",
       " 'stemming': 0.08333333333333333,\n",
       " 'lemmatization': 0.08333333333333333,\n",
       " 'methods': 0.08333333333333333,\n",
       " 'trimming': 0.08333333333333333,\n",
       " 'roots': 0.08333333333333333,\n",
       " 'tokenization': 0.08333333333333333,\n",
       " 'breaking': 0.08333333333333333,\n",
       " 'phrases': 0.08333333333333333,\n",
       " 'sentences': 0.08333333333333333,\n",
       " 'paragraphs': 0.08333333333333333,\n",
       " 'passages': 0.08333333333333333,\n",
       " 'tokens': 0.08333333333333333,\n",
       " 'better': 0.08333333333333333,\n",
       " 'implementing': 0.08333333333333333,\n",
       " 'capabilities': 0.08333333333333333,\n",
       " 'semantic': 0.08333333333333333,\n",
       " 'reasoning': 0.08333333333333333,\n",
       " 'reach': 0.08333333333333333,\n",
       " 'logical': 0.08333333333333333,\n",
       " 'conclusions': 0.08333333333333333,\n",
       " 'facts': 0.08333333333333333,\n",
       " 'extracted': 0.08333333333333333,\n",
       " 'earliest': 0.08333333333333333,\n",
       " 'hand': 0.08333333333333333,\n",
       " 'coded': 0.08333333333333333,\n",
       " 'rules': 0.08333333333333333,\n",
       " 'could': 0.08333333333333333,\n",
       " 'perform': 0.08333333333333333,\n",
       " 'certain': 0.08333333333333333,\n",
       " 'couldnt': 0.08333333333333333,\n",
       " 'easily': 0.08333333333333333,\n",
       " 'scale': 0.08333333333333333,\n",
       " 'accommodate': 0.08333333333333333,\n",
       " 'seemingly': 0.08333333333333333,\n",
       " 'endless': 0.08333333333333333,\n",
       " 'stream': 0.08333333333333333,\n",
       " 'increasing': 0.08333333333333333,\n",
       " 'enter': 0.08333333333333333,\n",
       " 'algorithms': 0.08333333333333333,\n",
       " 'automatically': 0.08333333333333333,\n",
       " 'extract': 0.16666666666666666,\n",
       " 'classify': 0.08333333333333333,\n",
       " 'label': 0.08333333333333333,\n",
       " 'elements': 0.16666666666666666,\n",
       " 'assign': 0.08333333333333333,\n",
       " 'likelihood': 0.08333333333333333,\n",
       " 'possible': 0.08333333333333333,\n",
       " 'today': 0.08333333333333333,\n",
       " 'techniques': 0.08333333333333333,\n",
       " 'convolutional': 0.08333333333333333,\n",
       " 'neural': 0.16666666666666666,\n",
       " 'networks': 0.16666666666666666,\n",
       " 'cnns': 0.08333333333333333,\n",
       " 'recurrent': 0.08333333333333333,\n",
       " 'rnns': 0.08333333333333333,\n",
       " 'work': 0.08333333333333333,\n",
       " 'ever': 0.08333333333333333,\n",
       " 'accurate': 0.08333333333333333,\n",
       " 'huge': 0.08333333333333333,\n",
       " 'raw': 0.08333333333333333,\n",
       " 'unstructured': 0.08333333333333333,\n",
       " 'unlabeled': 0.08333333333333333,\n",
       " 'sets': 0.08333333333333333}"
      ]
     },
     "execution_count": 15,
     "metadata": {},
     "output_type": "execute_result"
    }
   ],
   "source": [
    "#Calculate Sentence Scores\n",
    "sentence_scores = {}\n",
    "\n",
    "for sentence in sentence_list:\n",
    "    for word in nltk.word_tokenize(sentence):\n",
    "        if word in word_frequencies and len(sentence.split(' ')) < 30:\n",
    "            if sentence not in sentence_scores:\n",
    "                sentence_scores[sentence] = word_frequencies[word]\n",
    "            else:\n",
    "                sentence_scores[sentence] += word_frequencies[word]\n",
    "\n",
    "word_frequencies"
   ]
  },
  {
   "cell_type": "code",
   "execution_count": 16,
   "id": "a2b60604",
   "metadata": {},
   "outputs": [
    {
     "data": {
      "text/plain": [
       "{'nlp combines computational linguistics—rule-based modeling of human language—with statistical, machine learning, and deep learning models.': 3.6666666666666665,\n",
       " 'there’s a good chance you’ve interacted with nlp in the form of voice-operated gps systems, digital assistants, speech-to-text dictation software, customer service chatbots, and other consumer conveniences.': 2.583333333333334,\n",
       " 'but nlp also plays a growing role in enterprise solutions that help streamline business operations, increase employee productivity, and simplify mission-critical business processes.': 2.666666666666667,\n",
       " 'human language is filled with ambiguities that make it incredibly difficult to write software that accurately determines the intended meaning of text or voice data.': 4.333333333333333,\n",
       " 'the python programing language provides a wide range of tools and libraries for attacking specific nlp tasks.': 3.083333333333333,\n",
       " 'many of these are found in the natural language toolkit, or nltk, an open source collection of libraries, programs, and education resources for building nlp programs.': 3.916666666666667,\n",
       " 'it also includes libraries for implementing capabilities such as semantic reasoning, the ability to reach logical conclusions based on facts extracted from text.': 2.916666666666666}"
      ]
     },
     "execution_count": 16,
     "metadata": {},
     "output_type": "execute_result"
    }
   ],
   "source": [
    "sentence_scores"
   ]
  },
  {
   "cell_type": "code",
   "execution_count": 17,
   "id": "5737994e",
   "metadata": {},
   "outputs": [
    {
     "name": "stdout",
     "output_type": "stream",
     "text": [
      "human language is filled with ambiguities that make it incredibly difficult to write software that accurately determines the intended meaning of text or voice data. many of these are found in the natural language toolkit, or nltk, an open source collection of libraries, programs, and education resources for building nlp programs. nlp combines computational linguistics—rule-based modeling of human language—with statistical, machine learning, and deep learning models. the python programing language provides a wide range of tools and libraries for attacking specific nlp tasks. it also includes libraries for implementing capabilities such as semantic reasoning, the ability to reach logical conclusions based on facts extracted from text. but nlp also plays a growing role in enterprise solutions that help streamline business operations, increase employee productivity, and simplify mission-critical business processes. there’s a good chance you’ve interacted with nlp in the form of voice-operated gps systems, digital assistants, speech-to-text dictation software, customer service chatbots, and other consumer conveniences.\n"
     ]
    }
   ],
   "source": [
    "# Text Summarization\n",
    "# get top 100 sentences\n",
    "import heapq\n",
    "summary = heapq.nlargest(100, sentence_scores, key=sentence_scores.get)\n",
    "\n",
    "print(\" \".join(summary))"
   ]
  },
  {
   "cell_type": "code",
   "execution_count": null,
   "id": "1cd58d75",
   "metadata": {},
   "outputs": [],
   "source": []
  }
 ],
 "metadata": {
  "kernelspec": {
   "display_name": "Python 3 (ipykernel)",
   "language": "python",
   "name": "python3"
  },
  "language_info": {
   "codemirror_mode": {
    "name": "ipython",
    "version": 3
   },
   "file_extension": ".py",
   "mimetype": "text/x-python",
   "name": "python",
   "nbconvert_exporter": "python",
   "pygments_lexer": "ipython3",
   "version": "3.9.7"
  }
 },
 "nbformat": 4,
 "nbformat_minor": 5
}
